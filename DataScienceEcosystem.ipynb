{
 "cells": [
  {
   "cell_type": "markdown",
   "id": "47fe3b7b",
   "metadata": {},
   "source": [
    "# Data Science Tools and Ecosystem"
   ]
  },
  {
   "cell_type": "markdown",
   "id": "cb286432",
   "metadata": {
    "vscode": {
     "languageId": "plaintext"
    }
   },
   "source": [
    "In this notebook , Data Science Tools And Ecosystem are summarized"
   ]
  },
  {
   "cell_type": "markdown",
   "id": "f8176604",
   "metadata": {
    "vscode": {
     "languageId": "plaintext"
    }
   },
   "source": [
    "Some of the popular languages that Data Scientist use are:\n",
    "1. Python\n",
    "2. SQL\n",
    "3. R"
   ]
  },
  {
   "cell_type": "markdown",
   "id": "5d02efec",
   "metadata": {},
   "source": [
    "____________________\n",
    "|Data Science Tools|\n",
    "____________________\n",
    "|R studio|\n",
    "__________\n",
    "| MYSQL   |\n",
    "___________\n",
    "|VSC       |"
   ]
  },
  {
   "cell_type": "markdown",
   "id": "6c3e2462",
   "metadata": {},
   "source": [
    "### Below are a few examples of evaluating arithmetic expressions in Python"
   ]
  },
  {
   "cell_type": "code",
   "execution_count": 2,
   "id": "9b31d214",
   "metadata": {},
   "outputs": [
    {
     "name": "stdout",
     "output_type": "stream",
     "text": [
      "This a simple arithmetic expression to mutiply then add integers: 17\n"
     ]
    }
   ],
   "source": [
    "x = (3*4)+5\n",
    "print(\"This a simple arithmetic expression to mutiply then add integers: \" +  str(x))"
   ]
  },
  {
   "cell_type": "code",
   "execution_count": 3,
   "id": "07df47e1",
   "metadata": {},
   "outputs": [
    {
     "name": "stdout",
     "output_type": "stream",
     "text": [
      "This a simple arithmetic expression to mutiply then add integers: 3.3333333333333335\n"
     ]
    }
   ],
   "source": [
    "x = 200 / 60 \n",
    "print(\"This a simple arithmetic expression to mutiply then add integers: \" +  str(x))"
   ]
  },
  {
   "cell_type": "markdown",
   "id": "fa9e8785",
   "metadata": {},
   "source": [
    "__Objective:__\n",
    "1. Data Science Tools\n",
    "2. Data Science Languages\n",
    "3. Data Science Enviroment \n"
   ]
  },
  {
   "cell_type": "markdown",
   "id": "1455d80b",
   "metadata": {},
   "source": [
    "## Author:\n",
    "Bryan Chora "
   ]
  }
 ],
 "metadata": {
  "kernelspec": {
   "display_name": "base",
   "language": "python",
   "name": "python3"
  },
  "language_info": {
   "codemirror_mode": {
    "name": "ipython",
    "version": 3
   },
   "file_extension": ".py",
   "mimetype": "text/x-python",
   "name": "python",
   "nbconvert_exporter": "python",
   "pygments_lexer": "ipython3",
   "version": "3.13.5"
  }
 },
 "nbformat": 4,
 "nbformat_minor": 5
}
